{
 "cells": [
  {
   "cell_type": "code",
   "execution_count": null,
   "metadata": {},
   "outputs": [],
   "source": [
    "import nilearn.plotting as plotting\n",
    "import pandas as pd\n",
    "\n",
    "from glob import glob\n",
    "from IPython.display import display\n",
    "from os.path import join\n",
    "\n",
    "import tbi"
   ]
  },
  {
   "cell_type": "code",
   "execution_count": null,
   "metadata": {},
   "outputs": [],
   "source": [
    "output = '/data/illustration_workflow_output'\n",
    "mni_file = 'illustration_data/MNI152_T1_1mm_brain.nii.gz'\n",
    "atlas_file = 'illustration_data/New_atlas_cort_asym_sub.nii.gz'\n",
    "template_file = 'illustration_data/T_template0.nii.gz'\n",
    "dcmfiles = 'illustration_data/dcmfiles/*'"
   ]
  },
  {
   "cell_type": "code",
   "execution_count": null,
   "metadata": {},
   "outputs": [],
   "source": [
    "convert_dir = join(output, 'convert')\n",
    "tbi.convert(dcmfiles, convert_dir, use_dcm2niix=True)"
   ]
  },
  {
   "cell_type": "code",
   "execution_count": null,
   "metadata": {},
   "outputs": [],
   "source": [
    "nii_files = glob(join(convert_dir, \"*.nii.gz\"))\n",
    "\n",
    "for nii_file in nii_files:\n",
    "    print('Plotting {0}'.format(nii_file))\n",
    "    plotting.plot_img(nii_file)\n",
    "    plotting.show()"
   ]
  },
  {
   "cell_type": "code",
   "execution_count": null,
   "metadata": {},
   "outputs": [],
   "source": [
    "preprocessing_dir = join(output, 'preprocessing')\n",
    "tbi.preprocessing(join(convert_dir, '*.nii.gz'), \n",
    "                  preprocessing_dir,\n",
    "                  mni_file,)"
   ]
  },
  {
   "cell_type": "code",
   "execution_count": null,
   "metadata": {},
   "outputs": [],
   "source": [
    "nii_files = glob(join(preprocessing_dir, \"*.nii.gz\"))\n",
    "\n",
    "for nii_file in nii_files:\n",
    "    print('Plotting {0}'.format(nii_file))\n",
    "    plotting.plot_img(nii_file)\n",
    "    plotting.show()"
   ]
  },
  {
   "cell_type": "code",
   "execution_count": null,
   "metadata": {},
   "outputs": [],
   "source": [
    "skull_strip_dir = join(output, 'brains')\n",
    "tbi.skull_strip(join(preprocessing_dir, '*_normalizedWarped.nii.gz'),\n",
    "                skull_strip_dir)"
   ]
  },
  {
   "cell_type": "code",
   "execution_count": null,
   "metadata": {},
   "outputs": [],
   "source": [
    "nii_files = glob(join(skull_strip_dir, \"*.nii.gz\"))\n",
    "\n",
    "for nii_file in nii_files:\n",
    "    print('Plotting {0}'.format(nii_file))\n",
    "    plotting.plot_img(nii_file)\n",
    "    plotting.show()"
   ]
  },
  {
   "cell_type": "code",
   "execution_count": null,
   "metadata": {},
   "outputs": [],
   "source": [
    "registration_dir = join(output, 'registration')\n",
    "tbi.registration(join(skull_strip_dir, '*.nii.gz'), \n",
    "                 registration_dir, \n",
    "                 template_file)"
   ]
  },
  {
   "cell_type": "code",
   "execution_count": null,
   "metadata": {},
   "outputs": [],
   "source": [
    "nii_files = glob(join(registration_dir, '*/*.nii.gz'))\n",
    "\n",
    "for nii_file in nii_files:\n",
    "    print(nii_file)\n",
    "    img = tbi.load_as_3d(nii_file)\n",
    "    plotting.plot_img(img)\n",
    "    plotting.show()"
   ]
  },
  {
   "cell_type": "code",
   "execution_count": null,
   "metadata": {},
   "outputs": [],
   "source": [
    "segmentation_dir = join(output, 'segmentation')\n",
    "tbi.segmentation(join(registration_dir, '*/*.nii.gz'), \n",
    "                 segmentation_dir, \n",
    "                 atlas_file)"
   ]
  },
  {
   "cell_type": "code",
   "execution_count": null,
   "metadata": {},
   "outputs": [],
   "source": [
    "nii_files = glob(join(segmentation_dir, '*/*.nii.gz'))\n",
    "for nii_file in nii_files:\n",
    "    print(nii_file)\n",
    "    plotting.plot_img(nii_file)\n",
    "    plotting.show()"
   ]
  },
  {
   "cell_type": "code",
   "execution_count": null,
   "metadata": {},
   "outputs": [],
   "source": [
    "label_geometry_measures_dir = join(output, 'label_geometry_measures')\n",
    "tbi.label_geometry_measures(join(segmentation_dir, '*/*.nii.gz'), \n",
    "                            label_geometry_measures_dir)"
   ]
  },
  {
   "cell_type": "code",
   "execution_count": null,
   "metadata": {},
   "outputs": [],
   "source": [
    "csv_files = glob(join(label_geometry_measures_dir, \"*.csv\"))\n",
    "\n",
    "for csv_file in csv_files:\n",
    "    df = pd.read_csv(csv_file)\n",
    "    display(df.iloc[0:115,0:5])"
   ]
  },
  {
   "cell_type": "code",
   "execution_count": null,
   "metadata": {},
   "outputs": [],
   "source": [
    "image_intensity_stat_dir = join(output, 'image_intensity_stat')\n",
    "tbi.image_intensity_stat(join(registration_dir, 'Affine2SyN/*affine2Syn1Warp.nii.gz'),\n",
    "                        image_intensity_stat_dir,\n",
    "                        atlas_file)"
   ]
  },
  {
   "cell_type": "code",
   "execution_count": null,
   "metadata": {},
   "outputs": [],
   "source": [
    "csv_files = glob(join(image_intensity_stat_dir, \"*.csv\"))\n",
    "\n",
    "for csv_file in csv_files:\n",
    "    df = pd.read_csv(csv_file)\n",
    "    display(df.iloc[0:115,0:5])\n"
   ]
  }
 ],
 "metadata": {
  "kernelspec": {
   "display_name": "Python 3",
   "language": "python",
   "name": "python3"
  },
  "language_info": {
   "codemirror_mode": {
    "name": "ipython",
    "version": 3
   },
   "file_extension": ".py",
   "mimetype": "text/x-python",
   "name": "python",
   "nbconvert_exporter": "python",
   "pygments_lexer": "ipython3",
   "version": "3.7.9"
  }
 },
 "nbformat": 4,
 "nbformat_minor": 4
}
