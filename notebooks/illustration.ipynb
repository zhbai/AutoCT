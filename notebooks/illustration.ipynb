{
 "cells": [
  {
   "cell_type": "code",
   "execution_count": null,
   "metadata": {},
   "outputs": [],
   "source": [
    "%run tbi_plotting.py\n",
    "\n",
    "import tbi\n",
    "from os.path import join\n",
    "\n",
    "tbi.setup_logging('INFO')"
   ]
  },
  {
   "cell_type": "code",
   "execution_count": null,
   "metadata": {},
   "outputs": [],
   "source": [
    "output = '/data/illustration_workflow_output'\n",
    "mni_file = 'illustration_data/MNI152_T1_1mm_brain.nii.gz'\n",
    "atlas_file = 'illustration_data/New_atlas_cort_asym_sub.nii.gz'\n",
    "template_file = 'illustration_data/T_template0.nii.gz'"
   ]
  },
  {
   "cell_type": "code",
   "execution_count": null,
   "metadata": {},
   "outputs": [],
   "source": [
    "tbi.convert(pattern='illustration_data/dcmfiles/*',\n",
    "            out_dir=join(output, 'convert'), \n",
    "            use_dcm2niix=True)"
   ]
  },
  {
   "cell_type": "code",
   "execution_count": null,
   "metadata": {},
   "outputs": [],
   "source": [
    "plot_images(join(output, 'convert', \"*.nii.gz\"))"
   ]
  },
  {
   "cell_type": "code",
   "execution_count": null,
   "metadata": {},
   "outputs": [],
   "source": [
    "tbi.preprocessing(pattern=join(output, 'convert', '*.nii.gz'), \n",
    "                  out_dir=join(output, 'preprocessing'),\n",
    "                  mni_file=mni_file)"
   ]
  },
  {
   "cell_type": "code",
   "execution_count": null,
   "metadata": {},
   "outputs": [],
   "source": [
    "plot_images(join(output, 'preprocessing', \"*.nii.gz\"))"
   ]
  },
  {
   "cell_type": "code",
   "execution_count": null,
   "metadata": {},
   "outputs": [],
   "source": [
    "tbi.skull_strip(pattern=join(output, 'preprocessing', '*.nii.gz'),\n",
    "                out_dir=join(output, 'brains'))"
   ]
  },
  {
   "cell_type": "code",
   "execution_count": null,
   "metadata": {},
   "outputs": [],
   "source": [
    "plot_images(join(output, 'brains', '*.nii.gz'))"
   ]
  },
  {
   "cell_type": "code",
   "execution_count": null,
   "metadata": {},
   "outputs": [],
   "source": [
    "tbi.registration(pattern=join(output, 'brains', '*.nii.gz'), \n",
    "                 out_dir=join(output, 'registration'), \n",
    "                 template=template_file,\n",
    "                 transforms=tbi.supported_registration_transforms())"
   ]
  },
  {
   "cell_type": "code",
   "execution_count": null,
   "metadata": {},
   "outputs": [],
   "source": [
    "plot_images(join(output, 'registration', '*/*.nii.gz'))"
   ]
  },
  {
   "cell_type": "code",
   "execution_count": null,
   "metadata": {},
   "outputs": [],
   "source": [
    "tbi.segmentation(pattern=join(output, 'registration', '*/*.nii.gz'), \n",
    "                 out_dir=join(output, 'segmentation'), \n",
    "                 atlas=atlas_file,\n",
    "                 types=tbi.supported_segmentation_types())"
   ]
  },
  {
   "cell_type": "code",
   "execution_count": null,
   "metadata": {},
   "outputs": [],
   "source": [
    "plot_images(join(output, 'segmentation', '*/*.nii.gz'))"
   ]
  },
  {
   "cell_type": "code",
   "execution_count": null,
   "metadata": {},
   "outputs": [],
   "source": [
    "tbi.label_geometry_measures(pattern=join(output, 'segmentation', '*/*.nii.gz'), \n",
    "                            out_dir=join(output, 'label_geometry_measures'))"
   ]
  },
  {
   "cell_type": "code",
   "execution_count": null,
   "metadata": {},
   "outputs": [],
   "source": [
    "plot_csv_files(pattern=join(output, 'label_geometry_measures', '*.csv'))"
   ]
  },
  {
   "cell_type": "code",
   "execution_count": null,
   "metadata": {},
   "outputs": [],
   "source": [
    "tbi.image_intensity_stat(pattern=join(output, 'registration', '*/*.nii.gz'),\n",
    "                         out_dir=join(output, 'image_intensity_stat'),\n",
    "                         atlas=atlas_file)"
   ]
  },
  {
   "cell_type": "code",
   "execution_count": null,
   "metadata": {},
   "outputs": [],
   "source": [
    "plot_csv_files(pattern=join(output, 'image_intensity_stat', '*.csv'))"
   ]
  }
 ],
 "metadata": {
  "kernelspec": {
   "display_name": "Python 3",
   "language": "python",
   "name": "python3"
  },
  "language_info": {
   "codemirror_mode": {
    "name": "ipython",
    "version": 3
   },
   "file_extension": ".py",
   "mimetype": "text/x-python",
   "name": "python",
   "nbconvert_exporter": "python",
   "pygments_lexer": "ipython3",
   "version": "3.7.9"
  }
 },
 "nbformat": 4,
 "nbformat_minor": 4
}
